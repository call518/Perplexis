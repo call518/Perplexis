{
 "cells": [
  {
   "cell_type": "code",
   "execution_count": 3,
   "metadata": {},
   "outputs": [
    {
     "name": "stdout",
     "output_type": "stream",
     "text": [
      "Collecting googlesearch-python\n",
      "  Downloading googlesearch_python-1.2.5-py3-none-any.whl.metadata (2.9 kB)\n",
      "Collecting beautifulsoup4>=4.9 (from googlesearch-python)\n",
      "  Using cached beautifulsoup4-4.12.3-py3-none-any.whl.metadata (3.8 kB)\n",
      "Collecting requests>=2.20 (from googlesearch-python)\n",
      "  Using cached requests-2.32.3-py3-none-any.whl.metadata (4.6 kB)\n",
      "Collecting soupsieve>1.2 (from beautifulsoup4>=4.9->googlesearch-python)\n",
      "  Using cached soupsieve-2.6-py3-none-any.whl.metadata (4.6 kB)\n",
      "Collecting charset-normalizer<4,>=2 (from requests>=2.20->googlesearch-python)\n",
      "  Downloading charset_normalizer-3.4.0-cp312-cp312-manylinux_2_17_x86_64.manylinux2014_x86_64.whl.metadata (34 kB)\n",
      "Collecting idna<4,>=2.5 (from requests>=2.20->googlesearch-python)\n",
      "  Using cached idna-3.10-py3-none-any.whl.metadata (10 kB)\n",
      "Collecting urllib3<3,>=1.21.1 (from requests>=2.20->googlesearch-python)\n",
      "  Using cached urllib3-2.2.3-py3-none-any.whl.metadata (6.5 kB)\n",
      "Collecting certifi>=2017.4.17 (from requests>=2.20->googlesearch-python)\n",
      "  Using cached certifi-2024.8.30-py3-none-any.whl.metadata (2.2 kB)\n",
      "Downloading googlesearch_python-1.2.5-py3-none-any.whl (4.8 kB)\n",
      "Using cached beautifulsoup4-4.12.3-py3-none-any.whl (147 kB)\n",
      "Using cached requests-2.32.3-py3-none-any.whl (64 kB)\n",
      "Using cached certifi-2024.8.30-py3-none-any.whl (167 kB)\n",
      "Downloading charset_normalizer-3.4.0-cp312-cp312-manylinux_2_17_x86_64.manylinux2014_x86_64.whl (143 kB)\n",
      "Using cached idna-3.10-py3-none-any.whl (70 kB)\n",
      "Using cached soupsieve-2.6-py3-none-any.whl (36 kB)\n",
      "Using cached urllib3-2.2.3-py3-none-any.whl (126 kB)\n",
      "Installing collected packages: urllib3, soupsieve, idna, charset-normalizer, certifi, requests, beautifulsoup4, googlesearch-python\n",
      "Successfully installed beautifulsoup4-4.12.3 certifi-2024.8.30 charset-normalizer-3.4.0 googlesearch-python-1.2.5 idna-3.10 requests-2.32.3 soupsieve-2.6 urllib3-2.2.3\n",
      "\u001b[33mWARNING: Running pip as the 'root' user can result in broken permissions and conflicting behaviour with the system package manager, possibly rendering your system unusable.It is recommended to use a virtual environment instead: https://pip.pypa.io/warnings/venv. Use the --root-user-action option if you know what you are doing and want to suppress this warning.\u001b[0m\u001b[33m\n",
      "\u001b[0mNote: you may need to restart the kernel to use updated packages.\n"
     ]
    }
   ],
   "source": [
    "%pip install googlesearch-python"
   ]
  },
  {
   "cell_type": "code",
   "execution_count": 1,
   "metadata": {},
   "outputs": [
    {
     "name": "stdout",
     "output_type": "stream",
     "text": [
      "1. https://yoonchang.tistory.com/94\n",
      "2. https://dev-chicken.tistory.com/34\n",
      "3. https://m.blog.naver.com/ghdalswl77/222391621683\n",
      "4. https://arisu1000.tistory.com/27863\n",
      "5. https://maily.so/newslettertodevops/posts/wjzd9p4mr3p\n",
      "6. https://gruuuuu.github.io/cloud/design-pattern/\n",
      "7. https://waspro.tistory.com/775\n",
      "8. https://dewble.tistory.com/entry/kubernetes-pod-design-patterns\n",
      "9. https://imjeongwoo.tistory.com/126\n",
      "10. https://easyitwanner.tistory.com/178\n"
     ]
    }
   ],
   "source": [
    "from googlesearch import search\n",
    "\n",
    "# 검색어 입력 받기\n",
    "search_query = \"Kubernetes에서 sidecar 패턴을 사용하는 이유\"\n",
    "\n",
    "# 검색 수행 및 결과 출력\n",
    "try:\n",
    "    results = search(search_query, num_results=10, lang=\"ko\")\n",
    "    \n",
    "    if results:\n",
    "        for idx, result in enumerate(results, 1):\n",
    "            print(f\"{idx}. {result}\")\n",
    "    else:\n",
    "        print(\"검색 결과를 찾을 수 없습니다.\")\n",
    "except Exception as e:\n",
    "    print(f\"오류 발생: {e}\")"
   ]
  },
  {
   "cell_type": "code",
   "execution_count": null,
   "metadata": {},
   "outputs": [],
   "source": []
  }
 ],
 "metadata": {
  "kernelspec": {
   "display_name": "Perplexis",
   "language": "python",
   "name": "python3"
  },
  "language_info": {
   "codemirror_mode": {
    "name": "ipython",
    "version": 3
   },
   "file_extension": ".py",
   "mimetype": "text/x-python",
   "name": "python",
   "nbconvert_exporter": "python",
   "pygments_lexer": "ipython3",
   "version": "3.12.7"
  }
 },
 "nbformat": 4,
 "nbformat_minor": 2
}
